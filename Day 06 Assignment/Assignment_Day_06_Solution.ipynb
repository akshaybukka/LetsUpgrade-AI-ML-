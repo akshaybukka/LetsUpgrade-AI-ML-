{
  "nbformat": 4,
  "nbformat_minor": 0,
  "metadata": {
    "colab": {
      "name": "Assignment Day 06 Solution.ipynb",
      "provenance": [],
      "collapsed_sections": []
    },
    "kernelspec": {
      "name": "python3",
      "display_name": "Python 3"
    }
  },
  "cells": [
    {
      "cell_type": "markdown",
      "metadata": {
        "id": "u8UgPXQDfNR2",
        "colab_type": "text"
      },
      "source": [
        "1] Print the company name in a single line from the email address in the \"username@companyname.com\" format"
      ]
    },
    {
      "cell_type": "code",
      "metadata": {
        "id": "CL7jGDQrfbrc",
        "colab_type": "code",
        "colab": {
          "base_uri": "https://localhost:8080/",
          "height": 34
        },
        "outputId": "4b4fa57e-6bf6-4aa8-b844-ede2a70260dc"
      },
      "source": [
        "s = \"akshay.bukka@gmail.com\"\n",
        "countofattherate = s.index(\"@\")+1\n",
        "countofdot=s.rindex(\".\")\n",
        "print(s[countofattherate:countofdot])"
      ],
      "execution_count": 7,
      "outputs": [
        {
          "output_type": "stream",
          "text": [
            "gmail\n"
          ],
          "name": "stdout"
        }
      ]
    },
    {
      "cell_type": "markdown",
      "metadata": {
        "id": "O6MN3VaJiJ5l",
        "colab_type": "text"
      },
      "source": [
        "2] Write a program that accepts a comma-separated sequence of words as input and prints the words in a\n",
        "comma-separated sequence after sorting them alphabetically."
      ]
    },
    {
      "cell_type": "code",
      "metadata": {
        "id": "18Sr9KRiik2_",
        "colab_type": "code",
        "colab": {
          "base_uri": "https://localhost:8080/",
          "height": 50
        },
        "outputId": "caeca86a-e61c-4fd4-84a5-7926a2dab1f9"
      },
      "source": [
        "input_words=input(\"Enter a comma seperated word: \")\n",
        "list_words=input_words.split(',')\n",
        "list_words=sorted(list_words)\n",
        "print(','. join(list_words))"
      ],
      "execution_count": 17,
      "outputs": [
        {
          "output_type": "stream",
          "text": [
            "Enter a comma seperated word: Learn,With,Lets,Up,Grade\n",
            "Grade,Learn,Lets,Up,With\n"
          ],
          "name": "stdout"
        }
      ]
    },
    {
      "cell_type": "markdown",
      "metadata": {
        "id": "uIuPKBC2lKfK",
        "colab_type": "text"
      },
      "source": [
        "3] Create your own Jupyter Notebook for Sets."
      ]
    },
    {
      "cell_type": "code",
      "metadata": {
        "id": "Fx7k19tMlOEw",
        "colab_type": "code",
        "colab": {
          "base_uri": "https://localhost:8080/",
          "height": 218
        },
        "outputId": "7508a898-7aea-4f2c-bfe7-29e40412b403"
      },
      "source": [
        "thisset = {\"apple\", \"banana\", \"cherry\"}\n",
        "print(type(thisset))\n",
        "\n",
        "#It is Unordered\n",
        "for x in thisset:\n",
        "  print(x)\n",
        "\n",
        "#Check if banana is there in set\n",
        "print(\"banana\" in thisset)\n",
        "\n",
        "#Add Items\n",
        "thisset.add(\"orange\")\n",
        "print(thisset)\n",
        "\n",
        "#Add multiple items to set\n",
        "thisset.update([\"pineapple\", \"mango\", \"grapes\"])\n",
        "print(thisset)\n",
        "\n",
        "#Length Of Set\n",
        "print(len(thisset))\n",
        "\n",
        "#Remove Item in a set\n",
        "thisset.discard(\"banana\")\n",
        "print(thisset)\n",
        "\n",
        "#Remove Last Item\n",
        "x = thisset.pop()\n",
        "print(x)\n",
        "print(thisset)\n",
        "\n",
        "#Clear The Set\n",
        "thisset.clear()\n",
        "print(thisset)\n",
        "\n",
        "#Delete The Set Completely\n",
        "del thisset\n"
      ],
      "execution_count": 28,
      "outputs": [
        {
          "output_type": "stream",
          "text": [
            "<class 'set'>\n",
            "cherry\n",
            "banana\n",
            "apple\n",
            "True\n",
            "{'cherry', 'orange', 'banana', 'apple'}\n",
            "{'cherry', 'banana', 'apple', 'mango', 'pineapple', 'grapes', 'orange'}\n",
            "7\n",
            "{'cherry', 'apple', 'mango', 'pineapple', 'grapes', 'orange'}\n",
            "cherry\n",
            "{'apple', 'mango', 'pineapple', 'grapes', 'orange'}\n",
            "set()\n"
          ],
          "name": "stdout"
        }
      ]
    },
    {
      "cell_type": "markdown",
      "metadata": {
        "id": "2_KpghOloEai",
        "colab_type": "text"
      },
      "source": [
        "4] Given a list of n-1 numbers ranging from 1 to n, your task is to find the missing number. There are no\n",
        "duplicates."
      ]
    },
    {
      "cell_type": "code",
      "metadata": {
        "id": "VIj3lO9XoXg2",
        "colab_type": "code",
        "colab": {
          "base_uri": "https://localhost:8080/",
          "height": 34
        },
        "outputId": "04770b48-5f1e-4e7d-d4d8-0854005391c0"
      },
      "source": [
        "def getMissingNo(A):\n",
        "    n = len(A)\n",
        "    total = (n + 1)*(n + 2)/2\n",
        "    sum_of_A = sum(A)\n",
        "    return total - sum_of_A\n",
        " \n",
        "# Calling Function\n",
        "A= \"1 2 3 4 5 7 8\"\n",
        "arr=A.split(' ')\n",
        "int_list = [int(i) for i in arr]\n",
        "miss = getMissingNo(int_list)\n",
        "print(miss)"
      ],
      "execution_count": 37,
      "outputs": [
        {
          "output_type": "stream",
          "text": [
            "6.0\n"
          ],
          "name": "stdout"
        }
      ]
    },
    {
      "cell_type": "markdown",
      "metadata": {
        "id": "YPkBGEyzr_pF",
        "colab_type": "text"
      },
      "source": [
        "5] With a given list L, write a program to print this list L after removing all duplicate values with original order\n",
        "reserved."
      ]
    },
    {
      "cell_type": "code",
      "metadata": {
        "id": "xcc5WhwRsG7w",
        "colab_type": "code",
        "colab": {
          "base_uri": "https://localhost:8080/",
          "height": 34
        },
        "outputId": "ef09c788-cff0-443b-9178-f224f7d1741e"
      },
      "source": [
        "# Python code to remove duplicate elements \n",
        "def Remove(duplicate): \n",
        "    final_list = [] \n",
        "    for num in duplicate: \n",
        "        if num not in final_list: \n",
        "            final_list.append(num) \n",
        "    return final_list \n",
        "      \n",
        "# Calling Function\n",
        "A= \"2 4 10 20 5 2 20 4\"\n",
        "arr=A.split(' ')\n",
        "int_duplicatelist = [int(i) for i in arr] \n",
        "print(Remove(int_duplicatelist)) "
      ],
      "execution_count": 41,
      "outputs": [
        {
          "output_type": "stream",
          "text": [
            "[2, 4, 10, 20, 5]\n"
          ],
          "name": "stdout"
        }
      ]
    }
  ]
}