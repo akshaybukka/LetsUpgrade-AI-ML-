{
  "nbformat": 4,
  "nbformat_minor": 0,
  "metadata": {
    "colab": {
      "name": "Day 08 Assignment Solution.ipynb",
      "provenance": [],
      "collapsed_sections": []
    },
    "kernelspec": {
      "name": "python3",
      "display_name": "Python 3"
    }
  },
  "cells": [
    {
      "cell_type": "markdown",
      "metadata": {
        "id": "vuNWaAiePaO0",
        "colab_type": "text"
      },
      "source": [
        "1] Recreate “NB 21 map, filter, lambda.ipynb” to try different variations or perform different calculations from"
      ]
    },
    {
      "cell_type": "code",
      "metadata": {
        "id": "od6bZCzMP5Ut",
        "colab_type": "code",
        "colab": {
          "base_uri": "https://localhost:8080/",
          "height": 101
        },
        "outputId": "35736597-9db0-48e4-8067-91536a58255c"
      },
      "source": [
        "#Map :\n",
        "\n",
        "def Cube(a):\n",
        "    return a*a*a\n",
        "# your code goes here2\n",
        "x = map(Cube,[1,2,3,4,5])\n",
        "print(x)\n",
        "print(type(x))\n",
        "print(list(x))\n",
        "\n",
        "def add(a,b):\n",
        "    return a+b\n",
        "# your code goes here3\n",
        "print(list(map(add, [ i for i in range(5)], (1,2,3,4,5) )))\n",
        "\n",
        "def sqr(a,b):\n",
        "    return a*b\n",
        "# your code goes here3\n",
        "print(list(map(sqr, [4,6,7], [2,2,2] )))"
      ],
      "execution_count": 6,
      "outputs": [
        {
          "output_type": "stream",
          "text": [
            "<map object at 0x7f7d87a74358>\n",
            "<class 'map'>\n",
            "[1, 8, 27, 64, 125]\n",
            "[1, 3, 5, 7, 9]\n",
            "[8, 12, 14]\n"
          ],
          "name": "stdout"
        }
      ]
    },
    {
      "cell_type": "code",
      "metadata": {
        "id": "frNu9Bi1Ss-V",
        "colab_type": "code",
        "colab": {
          "base_uri": "https://localhost:8080/",
          "height": 84
        },
        "outputId": "ac77dec4-3643-4580-e41f-ddbd3ab57e50"
      },
      "source": [
        "#Filter :\n",
        "\n",
        "def sqr(a):\n",
        "    if a>=3:\n",
        "        return a\n",
        "# your code goes here1.2\n",
        "x = filter( sqr, [1,2,3,4,5] )\n",
        "print(x)\n",
        "print(type(x))\n",
        "print(list(x))\n",
        "\n",
        "l = [1,2,3,4]\n",
        "# your code goes here1.3\n",
        "x = filter( lambda x: x>=3 ,l )\n",
        "print(list(x))"
      ],
      "execution_count": 10,
      "outputs": [
        {
          "output_type": "stream",
          "text": [
            "<filter object at 0x7f7d87a79668>\n",
            "<class 'filter'>\n",
            "[3, 4, 5]\n",
            "[3, 4]\n"
          ],
          "name": "stdout"
        }
      ]
    },
    {
      "cell_type": "code",
      "metadata": {
        "id": "wCzYo33GUGTb",
        "colab_type": "code",
        "colab": {
          "base_uri": "https://localhost:8080/",
          "height": 67
        },
        "outputId": "34f8933e-429e-48bd-84aa-3bb97c6a26ea"
      },
      "source": [
        "#Lambda :\n",
        "\n",
        "x = lambda a: a*a*a\n",
        "x(3)\n",
        "\n",
        "# lambda within user defined functions\n",
        "def abc(x):\n",
        "    return lambda y: x-y\n",
        "t = abc(4)\n",
        "print(t)\n",
        "print(t(2))\n",
        "\n",
        "l = [1,2,3,4]\n",
        "x = list(map(lambda x: x+2,l))\n",
        "print(x)"
      ],
      "execution_count": 14,
      "outputs": [
        {
          "output_type": "stream",
          "text": [
            "<function abc.<locals>.<lambda> at 0x7f7d87aae8c8>\n",
            "2\n",
            "[3, 4, 5, 6]\n"
          ],
          "name": "stdout"
        }
      ]
    },
    {
      "cell_type": "markdown",
      "metadata": {
        "id": "v_8zVyGVVSG_",
        "colab_type": "text"
      },
      "source": [
        "2] Recreate your own Python NB for “Classes and Objects” from the pdf provided namely “Classes&Objects.pdf”"
      ]
    },
    {
      "cell_type": "code",
      "metadata": {
        "id": "Md6GIA-xVXnZ",
        "colab_type": "code",
        "colab": {
          "base_uri": "https://localhost:8080/",
          "height": 67
        },
        "outputId": "de5fa91a-8a0b-4254-8518-f7c134bcc617"
      },
      "source": [
        "#Creating Classes - \n",
        "class Student:\n",
        " 'Common base class for all students'\n",
        " stuCount = 0\n",
        " def __init__(self, name, rollno):\n",
        "  self.name = name\n",
        "  self.rollno = rollno\n",
        "  Student.stuCount += 1\n",
        "\n",
        " def displayCount(self):\n",
        "  print (\"Total Students \" ,Student.stuCount)\n",
        " def displayStudent(self):\n",
        "  print (\"Name : \", self.name, \", Roll No: \", self.rollno)\n",
        "\n",
        "#Creating Instance Objects - \n",
        "stu1= Student(\"Tejas\", 1)\n",
        "stu2= Student(\"Ravi\", 2)\n",
        "\n",
        "#Accessing attributes of class - \n",
        "stu1.displayStudent()\n",
        "stu2.displayStudent()\n",
        "print (\"Total Employee \", Student.stuCount)"
      ],
      "execution_count": 24,
      "outputs": [
        {
          "output_type": "stream",
          "text": [
            "Name :  Tejas , Roll No:  1\n",
            "Name :  Ravi , Roll No:  2\n",
            "Total Employee  2\n"
          ],
          "name": "stdout"
        }
      ]
    }
  ]
}