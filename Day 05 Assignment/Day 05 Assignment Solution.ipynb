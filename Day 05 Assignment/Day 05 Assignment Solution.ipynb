{
 "cells": [
  {
   "cell_type": "markdown",
   "metadata": {},
   "source": [
    "1] Write a Python program to find the first 20 non-even prime natural numbers."
   ]
  },
  {
   "cell_type": "code",
   "execution_count": 7,
   "metadata": {
    "scrolled": true
   },
   "outputs": [
    {
     "name": "stdout",
     "output_type": "stream",
     "text": [
      "3\n",
      "5\n",
      "7\n",
      "11\n",
      "13\n",
      "17\n",
      "19\n",
      "23\n",
      "29\n",
      "31\n",
      "37\n",
      "41\n",
      "43\n",
      "47\n",
      "53\n",
      "59\n",
      "61\n",
      "67\n",
      "71\n",
      "73\n"
     ]
    }
   ],
   "source": [
    "a = 1\n",
    "count = 0\n",
    "flag = False\n",
    "while count < 20 :\n",
    "    a=a+1\n",
    "    flag = False\n",
    "    if(a%2!=0):\n",
    "        for i in range(2,a):\n",
    "            if(a%i==0):\n",
    "                flag = True \n",
    "        if(flag==False):\n",
    "            print(a)\n",
    "            count = count +1 \n",
    "    "
   ]
  },
  {
   "cell_type": "markdown",
   "metadata": {},
   "source": [
    "2] Write a Python program to implement 15 functions of string."
   ]
  },
  {
   "cell_type": "code",
   "execution_count": 26,
   "metadata": {
    "scrolled": true
   },
   "outputs": [
    {
     "name": "stdout",
     "output_type": "stream",
     "text": [
      "1] India : The String is alphanumeric.\n",
      "\n",
      "2] 1974 : The String contains only digits.\n",
      "\n",
      "3] Australia : String contains only alphabetic characters.\n",
      "\n",
      "4]     : String contains only whitespace characters.\n",
      "\n",
      "5] JAPAN : All letters in the string are uppercase.\n",
      "\n",
      "7] India 1974 : Convert String in lowercase: india 1974 \n",
      "\n",
      "8] India 1974 : Convert String in uppercase: INDIA 1974 \n",
      "\n",
      "9] Left Strip: India 1974\n",
      "\n",
      "10] Left Strip with Character A: merica 1974\n",
      "\n",
      "11] Right Strip: America 1974     \n",
      "\n",
      "12] Right Strip with Character a: Americ\n",
      "\n",
      "13] Strip from both side : America 1974\n",
      "\n",
      "14] Strip with Character A: merica Russia Japan China\n",
      "    Strip with Character a: America Russia Japan Chin\n",
      "\n",
      "15] endswith check whether a string ends with a specified substring\n",
      "True\n",
      "False\n"
     ]
    }
   ],
   "source": [
    "user_string = \"India\"\n",
    "if user_string.isalnum():\n",
    "    print(\"1] \"+user_string, ': The String is alphanumeric.\\n')\n",
    "\n",
    "user_string = \"1974\"\n",
    "if user_string.isdigit():\n",
    "    print(\"2] \"+user_string, ': The String contains only digits.\\n')\n",
    "    \n",
    "user_string = \"Australia\"\n",
    "if user_string.isalpha():\n",
    "    print(\"3] \"+user_string, ': String contains only alphabetic characters.\\n')\n",
    "\n",
    "user_string = \"   \"\n",
    "if user_string.isspace():\n",
    "    print(\"4] \"+user_string, ': String contains only whitespace characters.\\n')\n",
    " \n",
    "user_string = \"JAPAN\"\n",
    "if user_string.isupper():\n",
    "    print(\"5] \"+user_string, ': All letters in the string are uppercase.\\n')\n",
    " \n",
    "user_string = \"Australia 1974\"\n",
    "if user_string.islower():\n",
    "    print(\"6] \"+user_string, ': All letters in the string are lowercase.\\n')\n",
    " \n",
    "user_string = \"India 1974\"\n",
    "toLower = user_string.lower()\n",
    "print(\"7] \"+user_string, ': Convert String in lowercase:', toLower, '\\n')\n",
    " \n",
    "toUpper = user_string.upper()\n",
    "print(\"8] \"+user_string, ': Convert String in uppercase:', toUpper, '\\n')\n",
    "\n",
    "user_string = \"   India 1974\"\n",
    "print('9] Left Strip:', user_string.lstrip())\n",
    "\n",
    "user_string = \"America 1974\"\n",
    "print('\\n10] Left Strip with Character A:', user_string.lstrip('A'))\n",
    " \n",
    "user_string = \"America 1974     \"\n",
    "print('\\n11] Right Strip:', user_string.rstrip('A'))\n",
    " \n",
    "user_string = \"America\"\n",
    "print('\\n12] Right Strip with Character a:', user_string.rstrip('a'))\n",
    " \n",
    "user_string = \"   America 1974    \"\n",
    "print('\\n13] Strip from both side :', user_string.strip())\n",
    " \n",
    "user_string = \"America Russia Japan China\"\n",
    "print('\\n14] Strip with Character A:', user_string.strip('A'))\n",
    "print('    Strip with Character a:', user_string.strip('a'))\n",
    "\n",
    "print('\\n15] endswith check whether a string ends with a specified substring')\n",
    "user_string = \"Columbia\"\n",
    "print(user_string.endswith('bia'))\n",
    "print(user_string.endswith('mia'))"
   ]
  },
  {
   "cell_type": "markdown",
   "metadata": {},
   "source": [
    "3] Write a Python program to check if the given string is a Palindrome or Anagram or None of them. Display\n",
    "the message accordingly to the user."
   ]
  },
  {
   "cell_type": "code",
   "execution_count": 32,
   "metadata": {},
   "outputs": [
    {
     "name": "stdout",
     "output_type": "stream",
     "text": [
      "The given string is Palindrome\n"
     ]
    }
   ],
   "source": [
    "def isPalindrome(s):\n",
    "    return s == s[::-1]\n",
    " \n",
    "def checkAnagram(s1, s2): \n",
    "    if(sorted(s1)== sorted(s2)): \n",
    "        return True  \n",
    "    else: \n",
    "        return False\n",
    "    \n",
    "s1 = \"malayalam\"\n",
    "s2 = \"tyilspa\"\n",
    "\n",
    "is_palindrome = isPalindrome(s1)\n",
    "is_anagram = checkAnagram(s1, s2) \n",
    "\n",
    "if (is_palindrome==True):\n",
    "    print (\"The given string is Palindrome\")\n",
    "\n",
    "if (is_anagram==True):\n",
    "    print (\"The given string is Anagram\")\n",
    "\n",
    "if(is_anagram==True & is_palindrome==True):\n",
    "    print (\"The given string is None of them\")\n"
   ]
  },
  {
   "cell_type": "markdown",
   "metadata": {},
   "source": [
    "4] Write a Python's user-defined function that removes all the additional characters from the string and\n",
    "convert it finally to lower case using built-in lower(). eg: If the string is \"Dr. Darshan Ingle @AIML Trainer\",\n",
    "then the output be \"drdarshaningleaimltrainer\"."
   ]
  },
  {
   "cell_type": "code",
   "execution_count": 35,
   "metadata": {},
   "outputs": [
    {
     "name": "stdout",
     "output_type": "stream",
     "text": [
      "drdarshaningleaimltrainer123\n"
     ]
    }
   ],
   "source": [
    "def StringOperation(s):\n",
    "    only_alphanum=\"\"\n",
    "    for char in s:\n",
    "        if char.isalnum():\n",
    "            only_alphanum += char\n",
    "    only_alphanum = only_alphanum.lower()\n",
    "    return only_alphanum\n",
    "    \n",
    "s = \"Dr. Darshan Ingle @AIML Trainer 123\"\n",
    "s = StringOperation(s)\n",
    "print(s)"
   ]
  }
 ],
 "metadata": {
  "kernelspec": {
   "display_name": "Python 3",
   "language": "python",
   "name": "python3"
  },
  "language_info": {
   "codemirror_mode": {
    "name": "ipython",
    "version": 3
   },
   "file_extension": ".py",
   "mimetype": "text/x-python",
   "name": "python",
   "nbconvert_exporter": "python",
   "pygments_lexer": "ipython3",
   "version": "3.7.4"
  }
 },
 "nbformat": 4,
 "nbformat_minor": 4
}
