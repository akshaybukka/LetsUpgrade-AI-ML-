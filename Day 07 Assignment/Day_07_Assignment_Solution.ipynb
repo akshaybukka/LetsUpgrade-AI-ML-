{
  "nbformat": 4,
  "nbformat_minor": 0,
  "metadata": {
    "colab": {
      "name": "Day 07 Assignment Solution.ipynb",
      "provenance": [],
      "collapsed_sections": []
    },
    "kernelspec": {
      "name": "python3",
      "display_name": "Python 3"
    }
  },
  "cells": [
    {
      "cell_type": "markdown",
      "metadata": {
        "id": "9WlM1_S6aqsp",
        "colab_type": "text"
      },
      "source": [
        "1] Write a program to copy the contents of one file to another using a for loop. (Don’t use built-in copy\n",
        "function)"
      ]
    },
    {
      "cell_type": "code",
      "metadata": {
        "id": "-DI65E7la0nM",
        "colab_type": "code",
        "colab": {
          "base_uri": "https://localhost:8080/",
          "height": 34
        },
        "outputId": "bacbfa22-d760-4061-fbbe-5ead85757bfe"
      },
      "source": [
        "FileName1 = r\"/content/drive/My Drive/MainFile.txt\"\n",
        "FileName2 = r\"/content/drive/My Drive/CopiedFile.txt\"\n",
        "file1 = open(FileName1, \"r\")\n",
        "file2 = open(FileName2, \"w\")\n",
        "contents =file1.read()\n",
        "\n",
        "for i in contents :\n",
        "  file2.write(i)  \n",
        "\n",
        "file1.close\n",
        "file2.close"
      ],
      "execution_count": 5,
      "outputs": [
        {
          "output_type": "execute_result",
          "data": {
            "text/plain": [
              "<function TextIOWrapper.close>"
            ]
          },
          "metadata": {
            "tags": []
          },
          "execution_count": 5
        }
      ]
    },
    {
      "cell_type": "markdown",
      "metadata": {
        "id": "ffRqDCCZ2-cR",
        "colab_type": "text"
      },
      "source": [
        "2] Write a Python program to find maximum and minimum values in the dictionary. Do not use built-in min\n",
        "and max functions."
      ]
    },
    {
      "cell_type": "code",
      "metadata": {
        "id": "1shc3xXZ3DX_",
        "colab_type": "code",
        "colab": {
          "base_uri": "https://localhost:8080/",
          "height": 50
        },
        "outputId": "fa6e57b4-c6e7-4ddf-ac5e-1601be3ff16d"
      },
      "source": [
        "a_dictionary = {\"a\": 5, \"b\": 2, \"c\": 3, \"d\": 4}\n",
        "max_Value = a_dictionary[\"a\"]\n",
        "min_Value = a_dictionary[\"a\"]\n",
        "for value in a_dictionary.values():\n",
        "    if(max_Value < value ):\n",
        "      max_Value=value\n",
        "    if(min_Value > value):\n",
        "      min_Value=value\n",
        "\n",
        "print(max_Value)\n",
        "print(min_Value)"
      ],
      "execution_count": 13,
      "outputs": [
        {
          "output_type": "stream",
          "text": [
            "5\n",
            "2\n"
          ],
          "name": "stdout"
        }
      ]
    }
  ]
}