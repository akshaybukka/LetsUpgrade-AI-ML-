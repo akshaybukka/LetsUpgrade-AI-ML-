{
 "cells": [
  {
   "cell_type": "markdown",
   "metadata": {},
   "source": [
    "## 1] Write a program to subtract two complex numbers in Python."
   ]
  },
  {
   "cell_type": "code",
   "execution_count": 2,
   "metadata": {},
   "outputs": [
    {
     "name": "stdout",
     "output_type": "stream",
     "text": [
      "(4+4j)\n"
     ]
    }
   ],
   "source": [
    "a = 5 + 6j\n",
    "b = 1 + 2j\n",
    "print (a-b)"
   ]
  },
  {
   "cell_type": "markdown",
   "metadata": {},
   "source": [
    "## 2] Write a program to find the fourth root of a number."
   ]
  },
  {
   "cell_type": "code",
   "execution_count": 6,
   "metadata": {},
   "outputs": [
    {
     "name": "stdout",
     "output_type": "stream",
     "text": [
      "2.0\n"
     ]
    }
   ],
   "source": [
    "a = 16 ** (1/4)\n",
    "print (a)"
   ]
  },
  {
   "cell_type": "markdown",
   "metadata": {},
   "source": [
    "## 3] Write a program to swap two numbers in Python with the help of a temporary variable."
   ]
  },
  {
   "cell_type": "code",
   "execution_count": 13,
   "metadata": {},
   "outputs": [
    {
     "name": "stdout",
     "output_type": "stream",
     "text": [
      "a = 4\n",
      "b = 2\n"
     ]
    }
   ],
   "source": [
    "a = 2\n",
    "b = 4\n",
    "temp = a\n",
    "a = b\n",
    "b = temp\n",
    "print (\"a =\" ,str(a))\n",
    "print (\"b =\" ,str(b))\n"
   ]
  },
  {
   "cell_type": "markdown",
   "metadata": {},
   "source": [
    "## 4] Write a program to swap two numbers in Python without using a temporary variable."
   ]
  },
  {
   "cell_type": "code",
   "execution_count": 15,
   "metadata": {},
   "outputs": [
    {
     "name": "stdout",
     "output_type": "stream",
     "text": [
      "a = 4\n",
      "b = 2\n"
     ]
    }
   ],
   "source": [
    "a = 2\n",
    "b = 4\n",
    "a , b =b ,a \n",
    "print (\"a =\" ,str(a))\n",
    "print (\"b =\" ,str(b))"
   ]
  },
  {
   "cell_type": "markdown",
   "metadata": {},
   "source": [
    "## 5] Write a program to convert Fahrenheit to kelvin and celsius both."
   ]
  },
  {
   "cell_type": "code",
   "execution_count": 26,
   "metadata": {},
   "outputs": [
    {
     "name": "stdout",
     "output_type": "stream",
     "text": [
      "Temperature in Celsius :  13.333333333333334\n",
      "Temperature in kelvin :  286.8333333333333\n"
     ]
    }
   ],
   "source": [
    "F = 56\n",
    "celsius = (F - 32) * 5/9\n",
    "kelvin = 273.5 + ((F - 32.0) * (5.0/9.0))\n",
    "print (\"Temperature in Celsius : \" , str(celsius))\n",
    "print (\"Temperature in kelvin : \", str(kelvin))"
   ]
  },
  {
   "cell_type": "markdown",
   "metadata": {},
   "source": [
    "## 6] Write a program to demonstrate all the available data types in Python."
   ]
  },
  {
   "cell_type": "code",
   "execution_count": 31,
   "metadata": {},
   "outputs": [
    {
     "name": "stdout",
     "output_type": "stream",
     "text": [
      "Type of a is : <class 'int'>\n",
      "Type of a is : <class 'float'>\n",
      "Type of a is : <class 'str'>\n",
      "Type of a is : <class 'complex'>\n",
      "Type of a is : <class 'list'>\n",
      "Type of a is : <class 'tuple'>\n",
      "Type of a is : <class 'bool'>\n",
      "Type of a is : <class 'set'>\n",
      "Type of a is : <class 'dict'>\n"
     ]
    }
   ],
   "source": [
    "a = 10\n",
    "b = 10.5\n",
    "c = \"hello\"\n",
    "d = 5+9j\n",
    "e = [1, 2.2, 'python']\n",
    "f = (5,'program', 1+3j)\n",
    "g = True\n",
    "h = {5,2,3,1,4}\n",
    "i = {1:'value','key':2}\n",
    "print(\"Type of a is :\", type(a))\n",
    "print(\"Type of a is :\", type(b))\n",
    "print(\"Type of a is :\", type(c))\n",
    "print(\"Type of a is :\", type(d))\n",
    "print(\"Type of a is :\", type(e))\n",
    "print(\"Type of a is :\", type(f))\n",
    "print(\"Type of a is :\", type(g))\n",
    "print(\"Type of a is :\", type(h))\n",
    "print(\"Type of a is :\", type(i))"
   ]
  }
 ],
 "metadata": {
  "kernelspec": {
   "display_name": "Python 3",
   "language": "python",
   "name": "python3"
  },
  "language_info": {
   "codemirror_mode": {
    "name": "ipython",
    "version": 3
   },
   "file_extension": ".py",
   "mimetype": "text/x-python",
   "name": "python",
   "nbconvert_exporter": "python",
   "pygments_lexer": "ipython3",
   "version": "3.7.4"
  }
 },
 "nbformat": 4,
 "nbformat_minor": 4
}
